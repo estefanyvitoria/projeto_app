{
  "nbformat": 4,
  "nbformat_minor": 0,
  "metadata": {
    "colab": {
      "provenance": []
    },
    "kernelspec": {
      "name": "python3",
      "display_name": "Python 3"
    },
    "language_info": {
      "name": "python"
    }
  },
  "cells": [
    {
      "cell_type": "code",
      "execution_count": 3,
      "metadata": {
        "colab": {
          "base_uri": "https://localhost:8080/"
        },
        "id": "AfWgupos5O6v",
        "outputId": "61e97744-d7b2-4711-d31d-3e42edb0bab1"
      },
      "outputs": [
        {
          "output_type": "stream",
          "name": "stdout",
          "text": [
            "Sistema procedimentos esteticos\n",
            "1.cadastro de clientes\n",
            "2.agendamento\n",
            "3.tabela de precos\n",
            "4.sair do sistema\n",
            "Serviços Disponíveis:\n",
            "postica realista: R$50\n",
            "esmaltacao em gel: R$30\n",
            "alongamento em gel: R$35\n",
            "fibra de vidro: R$60\n",
            "Agendamento realizado com sucesso!\n"
          ]
        }
      ],
      "source": [
        "procedimentos_esteticos={\"maria\":16994926113}\n",
        "\n",
        "print(\"Sistema procedimentos esteticos\")\n",
        "print(\"1.cadastro de clientes\")\n",
        "print(\"2.agendamento\")\n",
        "print(\"3.tabela de precos\")\n",
        "print(\"4.sair do sistema\")\n",
        "\n",
        "servicos_disponiveis = {\n",
        "    \"postica realista\": 50,\n",
        "    \"esmaltacao em gel\": 30,\n",
        "    \"alongamento em gel\": 35,\n",
        "    \"fibra de vidro\": 60\n",
        "}\n",
        "\n",
        "agendamentos = []\n",
        "\n",
        "def mostrar_servicos_disponiveis():\n",
        "    print(\"Serviços Disponíveis:\")\n",
        "    for servico, preco in servicos_disponiveis.items():\n",
        "        print(f\"{servico}: R${preco}\")\n",
        "\n",
        "def calcular_preco_total(servicos):\n",
        "    preco_total = sum(servico[1] for servico in servicos)\n",
        "    return preco_total\n",
        "\n",
        "def agendar_servico(cliente, servicos, data, hora):\n",
        "    agendamento = {\"cliente\": cliente, \"servicos\": servicos, \"data\": data, \"hora\": hora}\n",
        "    agendamentos.append(agendamento)\n",
        "    print(\"Agendamento realizado com sucesso!\")\n",
        "\n",
        "# Exemplo de uso\n",
        "mostrar_servicos_disponiveis()\n",
        "\n",
        "cliente1 = \"Joana\"\n",
        "servicos_escolhidos = [(\"postica realista\", 50), (\"esmaltacao em gel\", 30)]\n",
        "data = \"01/04/2024\"\n",
        "hora = \"10:00\"\n",
        "\n",
        "agendar_servico(cliente1, servicos_escolhidos, data, hora)\n",
        "\n",
        "\n"
      ]
    }
  ]
}